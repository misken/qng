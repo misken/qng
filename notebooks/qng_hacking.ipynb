{
 "cells": [
  {
   "cell_type": "code",
   "execution_count": 1,
   "metadata": {},
   "outputs": [],
   "source": [
    "%load_ext autoreload\n",
    "%autoreload 2"
   ]
  },
  {
   "cell_type": "code",
   "execution_count": 2,
   "metadata": {},
   "outputs": [],
   "source": [
    "import scipy.stats as stats\n",
    "import scipy.optimize\n",
    "import numpy as np\n",
    "import qng\n",
    "import math\n",
    "import matplotlib as mpl\n",
    "import matplotlib.pyplot as plt"
   ]
  },
  {
   "cell_type": "code",
   "execution_count": 3,
   "metadata": {},
   "outputs": [],
   "source": [
    "%matplotlib inline"
   ]
  },
  {
   "cell_type": "code",
   "execution_count": 4,
   "metadata": {},
   "outputs": [
    {
     "data": {
      "text/plain": [
       "0.79155647639487325"
      ]
     },
     "execution_count": 4,
     "metadata": {},
     "output_type": "execute_result"
    }
   ],
   "source": [
    "stats.poisson.cdf(12,10.0)"
   ]
  },
  {
   "cell_type": "code",
   "execution_count": 3,
   "metadata": {},
   "outputs": [
    {
     "data": {
      "text/plain": [
       "15.0"
      ]
     },
     "execution_count": 3,
     "metadata": {},
     "output_type": "execute_result"
    }
   ],
   "source": [
    "stats.poisson.ppf(0.95,10.0)"
   ]
  },
  {
   "cell_type": "code",
   "execution_count": 4,
   "metadata": {},
   "outputs": [
    {
     "data": {
      "text/plain": [
       "0.95125959669602123"
      ]
     },
     "execution_count": 4,
     "metadata": {},
     "output_type": "execute_result"
    }
   ],
   "source": [
    "stats.poisson.cdf(15,10.0)"
   ]
  },
  {
   "cell_type": "code",
   "execution_count": 5,
   "metadata": {},
   "outputs": [
    {
     "data": {
      "text/plain": [
       "range(1, 5)"
      ]
     },
     "execution_count": 5,
     "metadata": {},
     "output_type": "execute_result"
    }
   ],
   "source": [
    "range(1,5)"
   ]
  },
  {
   "cell_type": "code",
   "execution_count": 6,
   "metadata": {},
   "outputs": [
    {
     "name": "stdout",
     "output_type": "stream",
     "text": [
      "range(1, 5)\n"
     ]
    }
   ],
   "source": [
    "print(range(1,5))"
   ]
  },
  {
   "cell_type": "code",
   "execution_count": 10,
   "metadata": {},
   "outputs": [
    {
     "name": "stdout",
     "output_type": "stream",
     "text": [
      "2\n",
      "3\n",
      "4\n",
      "5\n",
      "6\n",
      "7\n",
      "8\n",
      "9\n"
     ]
    }
   ],
   "source": [
    "for i in range(2,10):\n",
    "    print (i)"
   ]
  },
  {
   "cell_type": "code",
   "execution_count": 7,
   "metadata": {},
   "outputs": [
    {
     "name": "stdout",
     "output_type": "stream",
     "text": [
      "6 3 3 0.6666666666666666 2.0\n"
     ]
    }
   ],
   "source": [
    "arr_rate = 6\n",
    "svc_rate = 3\n",
    "c = 3\n",
    "rho = arr_rate / (svc_rate * c)\n",
    "load = arr_rate / svc_rate\n",
    "print(arr_rate,svc_rate,c,rho,load)"
   ]
  },
  {
   "cell_type": "code",
   "execution_count": 8,
   "metadata": {},
   "outputs": [
    {
     "data": {
      "text/plain": [
       "0.1111111111111111"
      ]
     },
     "execution_count": 8,
     "metadata": {},
     "output_type": "execute_result"
    }
   ],
   "source": [
    "qng.mmc_prob_n(0, arr_rate, svc_rate, c)"
   ]
  },
  {
   "cell_type": "code",
   "execution_count": 9,
   "metadata": {},
   "outputs": [
    {
     "data": {
      "text/plain": [
       "0.1111111111111111"
      ]
     },
     "execution_count": 9,
     "metadata": {},
     "output_type": "execute_result"
    }
   ],
   "source": [
    "1/9"
   ]
  },
  {
   "cell_type": "code",
   "execution_count": 3,
   "metadata": {
    "collapsed": true
   },
   "outputs": [],
   "source": [
    "pbar = np.ones(c)"
   ]
  },
  {
   "cell_type": "code",
   "execution_count": 4,
   "metadata": {
    "collapsed": true
   },
   "outputs": [],
   "source": [
    "for j in range(1,c):\n",
    "    pbar[j] = arr_rate * pbar[j-1] / (j * svc_rate)"
   ]
  },
  {
   "cell_type": "code",
   "execution_count": 5,
   "metadata": {},
   "outputs": [
    {
     "data": {
      "text/plain": [
       "array([ 1.        ,  2.5       ,  3.125     ,  2.60416667])"
      ]
     },
     "execution_count": 5,
     "metadata": {},
     "output_type": "execute_result"
    }
   ],
   "source": [
    "pbar"
   ]
  },
  {
   "cell_type": "code",
   "execution_count": 6,
   "metadata": {},
   "outputs": [
    {
     "data": {
      "text/plain": [
       "9.2291666666666661"
      ]
     },
     "execution_count": 6,
     "metadata": {},
     "output_type": "execute_result"
    }
   ],
   "source": [
    "sum(pbar)"
   ]
  },
  {
   "cell_type": "code",
   "execution_count": 8,
   "metadata": {},
   "outputs": [
    {
     "name": "stdout",
     "output_type": "stream",
     "text": [
      "13.5694444444\n"
     ]
    }
   ],
   "source": [
    "gamma = sum(pbar) + rho * pbar[c-1] / (1 - rho)\n",
    "print(gamma)"
   ]
  },
  {
   "cell_type": "code",
   "execution_count": 15,
   "metadata": {},
   "outputs": [
    {
     "data": {
      "text/plain": [
       "5"
      ]
     },
     "execution_count": 15,
     "metadata": {},
     "output_type": "execute_result"
    }
   ],
   "source": [
    "max(0,5)"
   ]
  },
  {
   "cell_type": "code",
   "execution_count": 6,
   "metadata": {},
   "outputs": [
    {
     "data": {
      "text/plain": [
       "0.14814814814814811"
      ]
     },
     "execution_count": 6,
     "metadata": {},
     "output_type": "execute_result"
    }
   ],
   "source": [
    "qng.mmc_mean_qwait(arr_rate, svc_rate, c)"
   ]
  },
  {
   "cell_type": "code",
   "execution_count": 7,
   "metadata": {},
   "outputs": [
    {
     "data": {
      "text/plain": [
       "0.6666666666666666"
      ]
     },
     "execution_count": 7,
     "metadata": {},
     "output_type": "execute_result"
    }
   ],
   "source": [
    "arr_rate/(svc_rate * c)"
   ]
  },
  {
   "cell_type": "code",
   "execution_count": 9,
   "metadata": {},
   "outputs": [
    {
     "data": {
      "text/plain": [
       "0.71503093847557575"
      ]
     },
     "execution_count": 9,
     "metadata": {},
     "output_type": "execute_result"
    }
   ],
   "source": [
    "qng.mmc_waitq_cdf(0.14814814814814811,arr_rate, svc_rate, c)"
   ]
  },
  {
   "cell_type": "code",
   "execution_count": 10,
   "metadata": {},
   "outputs": [
    {
     "data": {
      "text/plain": [
       "0.90083103993403124"
      ]
     },
     "execution_count": 10,
     "metadata": {},
     "output_type": "execute_result"
    }
   ],
   "source": [
    "qng.mmc_waitq_cdf(0.5, arr_rate, svc_rate, c)"
   ]
  },
  {
   "cell_type": "code",
   "execution_count": 11,
   "metadata": {},
   "outputs": [
    {
     "name": "stdout",
     "output_type": "stream",
     "text": [
      "0.670747457475 0.1\n",
      "0.756083717292 0.2\n",
      "0.819302373449 0.30000000000000004\n",
      "0.866135905817 0.4\n",
      "0.900831039934 0.5\n",
      "0.926533827457 0.6\n",
      "0.945574920776 0.7\n",
      "0.959680909649 0.7999999999999999\n"
     ]
    }
   ],
   "source": [
    "p = -1\n",
    "t = 0.1\n",
    "p = qng.mmc_waitq_cdf(t, arr_rate, svc_rate, c)\n",
    "\n",
    "while p < 0.95:\n",
    "    p = qng.mmc_waitq_cdf(t, arr_rate, svc_rate, c)\n",
    "    print(p,t)\n",
    "    t = t + 0.1"
   ]
  },
  {
   "cell_type": "code",
   "execution_count": 12,
   "metadata": {},
   "outputs": [
    {
     "name": "stdout",
     "output_type": "stream",
     "text": [
      "0.949989896112 0.7282\n",
      "0.949991396393 0.7282099999999999\n",
      "0.949992896629 0.7282199999999999\n",
      "0.949994396819 0.7282299999999998\n",
      "0.949995896965 0.7282399999999998\n",
      "0.949997397065 0.7282499999999997\n",
      "0.949998897121 0.7282599999999997\n",
      "0.950000397132 0.7282699999999996\n"
     ]
    }
   ],
   "source": [
    "p = -1\n",
    "t = 0.7282\n",
    "p = qng.mmc_waitq_cdf(t, arr_rate, svc_rate, c)\n",
    "\n",
    "while p < 0.95:\n",
    "    p = qng.mmc_waitq_cdf(t, arr_rate, svc_rate, c)\n",
    "    print(p,t)\n",
    "    t = t + 0.00001"
   ]
  },
  {
   "cell_type": "code",
   "execution_count": 13,
   "metadata": {
    "collapsed": true
   },
   "outputs": [],
   "source": [
    "def find_pctile(t, p, arr_rate, svc_rate, c):\n",
    "    return qng.mmc_waitq_cdf(t, arr_rate, svc_rate, c) - p"
   ]
  },
  {
   "cell_type": "code",
   "execution_count": 14,
   "metadata": {},
   "outputs": [
    {
     "data": {
      "text/plain": [
       "0.72826735244588692"
      ]
     },
     "execution_count": 14,
     "metadata": {},
     "output_type": "execute_result"
    }
   ],
   "source": [
    "p = 0.95\n",
    "scipy.optimize.newton(find_pctile,0.5,args=(p, arr_rate, svc_rate, c))"
   ]
  },
  {
   "cell_type": "code",
   "execution_count": 15,
   "metadata": {},
   "outputs": [
    {
     "data": {
      "text/plain": [
       "0.72826735244589413"
      ]
     },
     "execution_count": 15,
     "metadata": {},
     "output_type": "execute_result"
    }
   ],
   "source": [
    "qng.mmc_waitq_pctile(p,arr_rate, svc_rate, c)"
   ]
  },
  {
   "cell_type": "code",
   "execution_count": 22,
   "metadata": {},
   "outputs": [
    {
     "data": {
      "text/plain": [
       "0.693433799023798"
      ]
     },
     "execution_count": 22,
     "metadata": {},
     "output_type": "execute_result"
    }
   ],
   "source": [
    "qng.mm1_waitq_cdf(1.0,barber_arr, barber_svc)"
   ]
  },
  {
   "cell_type": "code",
   "execution_count": 25,
   "metadata": {},
   "outputs": [
    {
     "data": {
      "text/plain": [
       "0.69343379902379798"
      ]
     },
     "execution_count": 25,
     "metadata": {},
     "output_type": "execute_result"
    }
   ],
   "source": [
    "qng.mmc_waitq_cdf(1.0,barber_arr, barber_svc, barber_c)"
   ]
  },
  {
   "cell_type": "code",
   "execution_count": 17,
   "metadata": {},
   "outputs": [
    {
     "data": {
      "text/plain": [
       "0.86342238848194153"
      ]
     },
     "execution_count": 17,
     "metadata": {},
     "output_type": "execute_result"
    }
   ],
   "source": [
    "qng.mmc_waitq_pctile(p,arr_rate, c * svc_rate, 1)"
   ]
  },
  {
   "cell_type": "code",
   "execution_count": 18,
   "metadata": {
    "collapsed": true
   },
   "outputs": [],
   "source": [
    "barber_arr = 5\n",
    "barber_svc = 6\n",
    "barber_c = 1"
   ]
  },
  {
   "cell_type": "code",
   "execution_count": 20,
   "metadata": {},
   "outputs": [
    {
     "data": {
      "text/plain": [
       "4.1666666666666679"
      ]
     },
     "execution_count": 20,
     "metadata": {},
     "output_type": "execute_result"
    }
   ],
   "source": [
    "qng.mmc_mean_qsize(barber_arr, barber_svc, barber_c)"
   ]
  },
  {
   "cell_type": "code",
   "execution_count": 23,
   "metadata": {},
   "outputs": [
    {
     "data": {
      "text/plain": [
       "2.1202635362000914"
      ]
     },
     "execution_count": 23,
     "metadata": {},
     "output_type": "execute_result"
    }
   ],
   "source": [
    "qng.mm1_waitq_pctile(0.9,barber_arr, barber_svc)"
   ]
  },
  {
   "cell_type": "code",
   "execution_count": 24,
   "metadata": {},
   "outputs": [
    {
     "data": {
      "text/plain": [
       "0.9"
      ]
     },
     "execution_count": 24,
     "metadata": {},
     "output_type": "execute_result"
    }
   ],
   "source": [
    "qng.mm1_waitq_cdf(2.1202635362000914,barber_arr, barber_svc)"
   ]
  },
  {
   "cell_type": "code",
   "execution_count": 28,
   "metadata": {},
   "outputs": [
    {
     "data": {
      "text/plain": [
       "0.30656620097620196"
      ]
     },
     "execution_count": 28,
     "metadata": {},
     "output_type": "execute_result"
    }
   ],
   "source": [
    "5/6 * math.exp(-1.0)"
   ]
  },
  {
   "cell_type": "code",
   "execution_count": 7,
   "metadata": {},
   "outputs": [
    {
     "data": {
      "text/plain": [
       "[<matplotlib.lines.Line2D at 0x7efc928594e0>]"
      ]
     },
     "execution_count": 7,
     "metadata": {},
     "output_type": "execute_result"
    },
    {
     "data": {
      "image/png": "[encoded data removed]"
     },
     "metadata": {},
     "output_type": "display_data"
    }
   ],
   "source": [
    "x = np.linspace(-5, 5, 500)\n",
    "plt.plot(x, stats.norm.pdf(x))"
   ]
  },
  {
   "cell_type": "code",
   "execution_count": 4,
   "metadata": {},
   "outputs": [
    {
     "data": {
      "text/plain": [
       "[<matplotlib.lines.Line2D at 0x7f5d5a663668>]"
      ]
     },
     "execution_count": 4,
     "metadata": {},
     "output_type": "execute_result"
    },
    {
     "data": {
      "image/png": "[encoded data removed]"
     },
     "metadata": {},
     "output_type": "display_data"
    }
   ],
   "source": [
    "rho = np.linspace(0.5, .99, 200)\n",
    "plt.plot(rho, qng.mg1_mean_qsize(rho,1,1))"
   ]
  },
  {
   "cell_type": "code",
   "execution_count": 16,
   "metadata": {},
   "outputs": [
    {
     "data": {
      "image/png": "[encoded data removed]"
     },
     "metadata": {},
     "output_type": "display_data"
    }
   ],
   "source": [
    "rho = np.linspace(0.9, .99, 200)\n",
    "for cv2 in np.linspace(0, 2, 5):\n",
    "    plt.plot(rho, qng.mg1_mean_qsize(rho,1,cv2))"
   ]
  },
  {
   "cell_type": "code",
   "execution_count": 9,
   "metadata": {
    "collapsed": true
   },
   "outputs": [],
   "source": [
    "rho = np.linspace(0.5, .99, 200)\n",
    "load = rho * 2\n",
    "qsize = [qng.mmc_mean_qsize(l, 1, 2) for l in load]"
   ]
  },
  {
   "cell_type": "code",
   "execution_count": 7,
   "metadata": {},
   "outputs": [
    {
     "data": {
      "text/plain": [
       "array([ 1.        ,  1.00492462,  1.00984925,  1.01477387,  1.01969849,\n",
       "        1.02462312,  1.02954774,  1.03447236,  1.03939698,  1.04432161,\n",
       "        1.04924623,  1.05417085,  1.05909548,  1.0640201 ,  1.06894472,\n",
       "        1.07386935,  1.07879397,  1.08371859,  1.08864322,  1.09356784,\n",
       "        1.09849246,  1.10341709,  1.10834171,  1.11326633,  1.11819095,\n",
       "        1.12311558,  1.1280402 ,  1.13296482,  1.13788945,  1.14281407,\n",
       "        1.14773869,  1.15266332,  1.15758794,  1.16251256,  1.16743719,\n",
       "        1.17236181,  1.17728643,  1.18221106,  1.18713568,  1.1920603 ,\n",
       "        1.19698492,  1.20190955,  1.20683417,  1.21175879,  1.21668342,\n",
       "        1.22160804,  1.22653266,  1.23145729,  1.23638191,  1.24130653,\n",
       "        1.24623116,  1.25115578,  1.2560804 ,  1.26100503,  1.26592965,\n",
       "        1.27085427,  1.27577889,  1.28070352,  1.28562814,  1.29055276,\n",
       "        1.29547739,  1.30040201,  1.30532663,  1.31025126,  1.31517588,\n",
       "        1.3201005 ,  1.32502513,  1.32994975,  1.33487437,  1.33979899,\n",
       "        1.34472362,  1.34964824,  1.35457286,  1.35949749,  1.36442211,\n",
       "        1.36934673,  1.37427136,  1.37919598,  1.3841206 ,  1.38904523,\n",
       "        1.39396985,  1.39889447,  1.4038191 ,  1.40874372,  1.41366834,\n",
       "        1.41859296,  1.42351759,  1.42844221,  1.43336683,  1.43829146,\n",
       "        1.44321608,  1.4481407 ,  1.45306533,  1.45798995,  1.46291457,\n",
       "        1.4678392 ,  1.47276382,  1.47768844,  1.48261307,  1.48753769,\n",
       "        1.49246231,  1.49738693,  1.50231156,  1.50723618,  1.5121608 ,\n",
       "        1.51708543,  1.52201005,  1.52693467,  1.5318593 ,  1.53678392,\n",
       "        1.54170854,  1.54663317,  1.55155779,  1.55648241,  1.56140704,\n",
       "        1.56633166,  1.57125628,  1.5761809 ,  1.58110553,  1.58603015,\n",
       "        1.59095477,  1.5958794 ,  1.60080402,  1.60572864,  1.61065327,\n",
       "        1.61557789,  1.62050251,  1.62542714,  1.63035176,  1.63527638,\n",
       "        1.64020101,  1.64512563,  1.65005025,  1.65497487,  1.6598995 ,\n",
       "        1.66482412,  1.66974874,  1.67467337,  1.67959799,  1.68452261,\n",
       "        1.68944724,  1.69437186,  1.69929648,  1.70422111,  1.70914573,\n",
       "        1.71407035,  1.71899497,  1.7239196 ,  1.72884422,  1.73376884,\n",
       "        1.73869347,  1.74361809,  1.74854271,  1.75346734,  1.75839196,\n",
       "        1.76331658,  1.76824121,  1.77316583,  1.77809045,  1.78301508,\n",
       "        1.7879397 ,  1.79286432,  1.79778894,  1.80271357,  1.80763819,\n",
       "        1.81256281,  1.81748744,  1.82241206,  1.82733668,  1.83226131,\n",
       "        1.83718593,  1.84211055,  1.84703518,  1.8519598 ,  1.85688442,\n",
       "        1.86180905,  1.86673367,  1.87165829,  1.87658291,  1.88150754,\n",
       "        1.88643216,  1.89135678,  1.89628141,  1.90120603,  1.90613065,\n",
       "        1.91105528,  1.9159799 ,  1.92090452,  1.92582915,  1.93075377,\n",
       "        1.93567839,  1.94060302,  1.94552764,  1.95045226,  1.95537688,\n",
       "        1.96030151,  1.96522613,  1.97015075,  1.97507538,  1.98      ])"
      ]
     },
     "execution_count": 7,
     "metadata": {},
     "output_type": "execute_result"
    }
   ],
   "source": [
    "load"
   ]
  },
  {
   "cell_type": "code",
   "execution_count": 6,
   "metadata": {},
   "outputs": [
    {
     "data": {
      "image/png": "[encoded data removed]",
      "text/plain": [
       "<matplotlib.figure.Figure at 0x7fd497cee080>"
      ]
     },
     "metadata": {},
     "output_type": "display_data"
    }
   ],
   "source": [
    "rho = np.linspace(0.5, .99, 200)\n",
    "for c in [1, 2, 4, 8, 16, 20, 24, 28]:\n",
    "    load = rho * c\n",
    "    pdelay = [qng.erlangc(l, c) for l in load]\n",
    "    plt.plot(load, pdelay)"
   ]
  },
  {
   "cell_type": "markdown",
   "metadata": {},
   "source": [
    "# Debugging Whitt's GI/G/m code"
   ]
  },
  {
   "cell_type": "code",
   "execution_count": 3,
   "metadata": {},
   "outputs": [
    {
     "name": "stdout",
     "output_type": "stream",
     "text": [
      "0.872525367112 0.87\n",
      "0.57846270743 0.58\n"
     ]
    }
   ],
   "source": [
    "# D/M/m from Table2 - SEEMS TO BE OVERESTIMATING. ONLY WORKING NOW BECAUSE I KLUDGED IN\n",
    "# A TRAP FOR THE D/M/m CASE AND CALL A FUNCTION FOR THAT CASE THAT IMPLEMENTS EQ 2.20 OF WHITT.\n",
    "rho = 0.80\n",
    "m = 4\n",
    "lam = rho * m\n",
    "tablevalue = 0.87\n",
    "print(qng.ggm_mean_qwait_whitt(rho * m, 1.0, m, 0, 1) * lam, tablevalue)\n",
    "\n",
    "rho = 0.80\n",
    "m = 8\n",
    "lam = rho * m\n",
    "tablevalue = 0.58\n",
    "print(qng.ggm_mean_qwait_whitt(rho * m, 1.0, m, 0, 1) * lam, tablevalue)"
   ]
  },
  {
   "cell_type": "code",
   "execution_count": 4,
   "metadata": {},
   "outputs": [
    {
     "name": "stdout",
     "output_type": "stream",
     "text": [
      "0.872525367112\n",
      "0.872525367112\n"
     ]
    }
   ],
   "source": [
    "# D/M/m from Table2 but using 2.20 - SEE COMMENT ABOVE FOR ONLY REASON THESE TWO MATCH NOW\n",
    "rho = 0.8\n",
    "m = 4\n",
    "lam = rho * m\n",
    "\n",
    "print(qng.dmm_mean_qwait_whitt(rho * m, 1.0, m, 0, 1) * lam)\n",
    "print(qng.ggm_mean_qwait_whitt(rho * m, 1.0, m, 0, 1) * lam)"
   ]
  },
  {
   "cell_type": "markdown",
   "metadata": {},
   "source": [
    "So, why do these two methods give different answers? I'm matching the values in Table 2 using 2.20.\n",
    "\n",
    "Does Eq 2.24 reduce to 2.20 for the D/M/m case? It boils down to whether phi_0 reduces to phi_3?\n",
    "\n",
    "Below, it seems that 2.16 for M/D/m gives same results as 2.24. \n",
    "\n",
    "According to Whitt (1993), bottom of p125, yes indeed, 2.24 is consistent with 2.16 when cs2=0 and with 2.20 when ca2=0. THEREFORE I MUST HAVE AN ERROR IN MY PHI_0 FOR THE SECOND CASE OF 2.25 (ca2 < cs2)"
   ]
  },
  {
   "cell_type": "code",
   "execution_count": 7,
   "metadata": {},
   "outputs": [
    {
     "name": "stdout",
     "output_type": "stream",
     "text": [
      "0.80708331013629 0.7314536082328932\n"
     ]
    }
   ],
   "source": [
    "# Phi_0 should equal Phi_3 for M/D/m - it does NOT. Since the dmm function is working, it would seem that phi_0 \n",
    "# is the culprit. Case 2.\n",
    "rho = 0.8\n",
    "m = 4\n",
    "print(qng.phi_0(rho, 0 , 1, m), qng.phi_3(m, rho))"
   ]
  },
  {
   "cell_type": "code",
   "execution_count": 8,
   "metadata": {},
   "outputs": [
    {
     "name": "stdout",
     "output_type": "stream",
     "text": [
      "0.8827130120396869 0.7314536082328932 0.8286426032654959\n"
     ]
    }
   ],
   "source": [
    "# For DMm, psi_0 must equal phi_3 since phi = (1/2)phi_3 + (1/2)psi_0\n",
    "# Furthermore, phi_3 appears correct since i can match Table 2 via Eq 2.20 which uses phi_3 directly\n",
    "print(qng.psi_0(0.5,m,rho), qng.phi_3(m,rho), qng.phi_3(m,rho) / qng.psi_0(0.5,m,rho))"
   ]
  },
  {
   "cell_type": "code",
   "execution_count": 9,
   "metadata": {},
   "outputs": [
    {
     "data": {
      "text/plain": [
       "0.8827130120396869"
      ]
     },
     "execution_count": 9,
     "metadata": {},
     "output_type": "execute_result"
    }
   ],
   "source": [
    "qng.phi_4(m,rho)"
   ]
  },
  {
   "cell_type": "code",
   "execution_count": 48,
   "metadata": {},
   "outputs": [
    {
     "data": {
      "text/plain": [
       "0.8293336608905804"
      ]
     },
     "execution_count": 48,
     "metadata": {},
     "output_type": "execute_result"
    }
   ],
   "source": [
    "qng.phi_4(m,rho) ** 1.5"
   ]
  },
  {
   "cell_type": "code",
   "execution_count": 34,
   "metadata": {},
   "outputs": [
    {
     "name": "stdout",
     "output_type": "stream",
     "text": [
      "1.0331009359357166 1.0331009359357166\n"
     ]
    }
   ],
   "source": [
    "# Phi_0 should equal Phi_1 for M/D/m - it does\n",
    "rho = 0.95\n",
    "m = 30\n",
    "print(qng.phi_0(rho, 1 , 0, m), qng.phi_1(m, rho))"
   ]
  },
  {
   "cell_type": "code",
   "execution_count": 16,
   "metadata": {},
   "outputs": [
    {
     "name": "stdout",
     "output_type": "stream",
     "text": [
      "gamma:  0.03397241584648072\n",
      "ph1_1:  1.0339724158464807\n",
      "ph1_2:  0.8641103366140771\n",
      "ph1_3:  0.7314536082328932\n",
      "ph1_4:  0.8827130120396869\n"
     ]
    },
    {
     "data": {
      "text/plain": [
       "0.7314536082328932"
      ]
     },
     "execution_count": 16,
     "metadata": {},
     "output_type": "execute_result"
    }
   ],
   "source": [
    "print(\"gamma: \", qng.gamma_0(4, .8))\n",
    "print(\"ph1_1: \", qng.phi_1(4, .8))\n",
    "print(\"ph1_2: \", qng.phi_2(4, .8))\n",
    "print(\"ph1_3: \", qng.phi_3(4, .8))\n",
    "print(\"ph1_4: \", qng.phi_4(4, .8))\n",
    "qng.phi_2(4, .8) * math.exp(-2 * (1-0.8)/(3*0.8))"
   ]
  },
  {
   "cell_type": "code",
   "execution_count": 17,
   "metadata": {},
   "outputs": [
    {
     "data": {
      "text/plain": [
       "0.864"
      ]
     },
     "execution_count": 17,
     "metadata": {},
     "output_type": "execute_result"
    }
   ],
   "source": [
    "1-4*(0.034)"
   ]
  },
  {
   "cell_type": "code",
   "execution_count": 18,
   "metadata": {},
   "outputs": [
    {
     "data": {
      "text/plain": [
       "0.03397241584648072"
      ]
     },
     "execution_count": 18,
     "metadata": {},
     "output_type": "execute_result"
    }
   ],
   "source": [
    "(1-0.8)*(4-1)*(((4+5*4)**0.5)-2)/(16 * 4 * 0.8)"
   ]
  },
  {
   "cell_type": "code",
   "execution_count": 19,
   "metadata": {},
   "outputs": [
    {
     "data": {
      "text/plain": [
       "0.7313602103054906"
      ]
     },
     "execution_count": 19,
     "metadata": {},
     "output_type": "execute_result"
    }
   ],
   "source": [
    "0.864 * math.exp(-2*(1-0.8)/(3 * 0.8))"
   ]
  },
  {
   "cell_type": "code",
   "execution_count": 24,
   "metadata": {},
   "outputs": [
    {
     "name": "stdout",
     "output_type": "stream",
     "text": [
      "0.529221550111\n",
      "0.529221550111\n",
      "2.6125062875\n",
      "2.6125062875\n"
     ]
    }
   ],
   "source": [
    "# M/D/m from Table 3 - SEEMS TO BE WORKING FOR M/D/m\n",
    "# should be 0.53\n",
    "print(qng.ggm_mean_qwait_whitt(0.7 * 4, 1.0, 4, 1, 0) * 0.7 * 4)\n",
    "print(qng.mdm_mean_qwait_whitt(0.7 * 4, 1.0, 4, 1, 0) * 0.7 * 4)\n",
    "\n",
    "# should be 2.61\n",
    "rho = 0.90\n",
    "m = 20\n",
    "lam = rho * m\n",
    "tablevalue = 2.61\n",
    "print(qng.ggm_mean_qwait_whitt(rho * m, 1.0, m, 1, 0) * lam)\n",
    "print(qng.mdm_mean_qwait_whitt(rho * m, 1.0, m, 1, 0) * lam)"
   ]
  },
  {
   "cell_type": "code",
   "execution_count": 5,
   "metadata": {},
   "outputs": [
    {
     "name": "stdout",
     "output_type": "stream",
     "text": [
      "1.44157397096\n",
      "1.44157397096\n",
      "2.84444444444\n"
     ]
    }
   ],
   "source": [
    "# M/D/m from Table 3 - \n",
    "# should be 1.44\n",
    "rho = 0.8\n",
    "m = 2\n",
    "lam = rho * m\n",
    "print(qng.ggm_mean_qwait_whitt(rho * m, 1.0, m, 1, 0) * lam)\n",
    "print(qng.mdc_mean_qwait_cosmetatos(rho * m, 1.0, m) * lam)\n",
    "# Just for fun, what is corresponding mean wait in M/M/m\n",
    "print(qng.mmc_mean_qwait(rho * m, 1.0, m) * lam)"
   ]
  },
  {
   "cell_type": "code",
   "execution_count": 37,
   "metadata": {},
   "outputs": [
    {
     "data": {
      "text/plain": [
       "0.56623431643669841"
      ]
     },
     "execution_count": 37,
     "metadata": {},
     "output_type": "execute_result"
    }
   ],
   "source": [
    "# h2/M/m from Table 4 - - SEEMS TO BE WORKING FOR M/D/m\n",
    "ca2 = 2.25\n",
    "rho = 0.5\n",
    "m = 2\n",
    "lam = rho * m\n",
    "qng.ggm_mean_qwait_whitt(rho * m, 1.0, m, ca2, 1) * lam"
   ]
  },
  {
   "cell_type": "code",
   "execution_count": 5,
   "metadata": {},
   "outputs": [
    {
     "name": "stdout",
     "output_type": "stream",
     "text": [
      "1.58348787833 1.58\n",
      "3.58322523059 3.58\n",
      "8.35574110007 8.4\n",
      "1.27772295628 1.28\n"
     ]
    }
   ],
   "source": [
    "# E4/M/m from Table5 - SEEMS TO BE WORKING\n",
    "rho = 0.8\n",
    "m = 2\n",
    "lam = rho * m\n",
    "tablevalue = 1.58\n",
    "print(qng.ggm_mean_qwait_whitt(rho * m, 1.0, m, 0.25, 1) * lam, tablevalue)\n",
    "\n",
    "tablevalue = 3.58\n",
    "print(qng.ggm_mean_qwait_whitt(0.9 * 8, 1.0, 8, 0.25, 1) * 0.9 * 8, tablevalue)\n",
    "\n",
    "tablevalue = 8.4\n",
    "print(qng.ggm_mean_qwait_whitt(0.95 * 20, 1.0, 20, 0.25, 1) * 0.95 * 20, tablevalue)\n",
    "\n",
    "tablevalue = 1.28\n",
    "print(qng.ggm_mean_qwait_whitt(0.8 * 4, 1.0, 4, 0.25, 1) * 0.8 * 4, tablevalue)"
   ]
  },
  {
   "cell_type": "code",
   "execution_count": 6,
   "metadata": {},
   "outputs": [
    {
     "data": {
      "text/plain": [
       "0.4142403987764812"
      ]
     },
     "execution_count": 6,
     "metadata": {},
     "output_type": "execute_result"
    }
   ],
   "source": [
    ".5 * .7313 / .8827"
   ]
  },
  {
   "cell_type": "markdown",
   "metadata": {},
   "source": [
    "# Testing P(Wq > 0) approximation from Whitt \n",
    "\n",
    "## Table 14 on p137"
   ]
  },
  {
   "cell_type": "code",
   "execution_count": 45,
   "metadata": {},
   "outputs": [
    {
     "name": "stdout",
     "output_type": "stream",
     "text": [
      "exact=0.79, whitt=0.79, mywhitt= 0.788, simio=0.79, whichpi=1\n"
     ]
    }
   ],
   "source": [
    "# M/M/4\n",
    "exact = 0.79\n",
    "whitt = 0.79\n",
    "simio = 0.79\n",
    "rho = 0.9\n",
    "m = 4\n",
    "lam = rho * m\n",
    "mu = 1\n",
    "ca2 = 1.0\n",
    "cs2 = 1.0\n",
    "approx = qng.ggm_prob_wait_whitt(lam, mu, m, ca2, cs2)\n",
    "whichpi = qng.ggm_prob_wait_whitt_whichpi(rho, m, ca2, cs2)\n",
    "\n",
    "print(\"exact={0}, whitt={1}, mywhitt={2:6.3f}, simio={3}, whichpi={4}\".format(exact, whitt, approx, simio, whichpi))"
   ]
  },
  {
   "cell_type": "code",
   "execution_count": 46,
   "metadata": {},
   "outputs": [
    {
     "name": "stdout",
     "output_type": "stream",
     "text": [
      "exact=0.67, whitt=0.65, mywhitt= 0.645, simio=0.664, whichpi=1\n"
     ]
    }
   ],
   "source": [
    "# D/M/4\n",
    "exact = 0.67\n",
    "whitt = 0.65\n",
    "simio = 0.664\n",
    "rho = 0.9\n",
    "m = 4\n",
    "lam = rho * m\n",
    "mu = 1\n",
    "ca2 = 0.0\n",
    "cs2 = 1.0\n",
    "approx = qng.ggm_prob_wait_whitt(lam, mu, m, ca2, cs2)\n",
    "whichpi = qng.ggm_prob_wait_whitt_whichpi(rho, m, ca2, cs2)\n",
    "print(\"exact={0}, whitt={1}, mywhitt={2:6.3f}, simio={3}, whichpi={4}\".format(exact, whitt, approx, simio, whichpi))"
   ]
  },
  {
   "cell_type": "code",
   "execution_count": 47,
   "metadata": {},
   "outputs": [
    {
     "name": "stdout",
     "output_type": "stream",
     "text": [
      "exact=0.85, whitt=0.85, mywhitt= 0.844, simio=0.845, whichpi=1\n"
     ]
    }
   ],
   "source": [
    "# H2/M/4 (ca2=2.25)\n",
    "exact = 0.85\n",
    "whitt = 0.85\n",
    "simio = 0.845\n",
    "rho = 0.9\n",
    "m = 4\n",
    "lam = rho * m\n",
    "mu = 1\n",
    "ca2 = 2.25\n",
    "cs2 = 1.0\n",
    "approx = qng.ggm_prob_wait_whitt(lam, mu, m, ca2, cs2)\n",
    "whichpi = qng.ggm_prob_wait_whitt_whichpi(rho, m, ca2, cs2)\n",
    "print(\"exact={0}, whitt={1}, mywhitt={2:6.3f}, simio={3}, whichpi={4}\".format(exact, whitt, approx, simio, whichpi))"
   ]
  },
  {
   "cell_type": "code",
   "execution_count": 48,
   "metadata": {},
   "outputs": [
    {
     "name": "stdout",
     "output_type": "stream",
     "text": [
      "exact=0.71, whitt=0.7, mywhitt= 0.701, simio=0, whichpi=1\n"
     ]
    }
   ],
   "source": [
    "# E4/M/4\n",
    "exact = 0.71\n",
    "whitt = 0.70\n",
    "simio = 0\n",
    "rho = 0.9\n",
    "m = 4\n",
    "lam = rho * m\n",
    "mu = 1\n",
    "ca2 = 0.25\n",
    "cs2 = 1.0\n",
    "approx = qng.ggm_prob_wait_whitt(lam, mu, m, ca2, cs2)\n",
    "whichpi = qng.ggm_prob_wait_whitt_whichpi(rho, m, ca2, cs2)\n",
    "print(\"exact={0}, whitt={1}, mywhitt={2:6.3f}, simio={3}, whichpi={4}\".format(exact, whitt, approx, simio, whichpi))"
   ]
  },
  {
   "cell_type": "code",
   "execution_count": 49,
   "metadata": {},
   "outputs": [
    {
     "name": "stdout",
     "output_type": "stream",
     "text": [
      "exact=0.75, whitt=0.75, mywhitt= 0.747, simio=0, whichpi=1\n"
     ]
    }
   ],
   "source": [
    "# G/M/4\n",
    "exact = 0.75\n",
    "whitt = 0.75\n",
    "simio = 0 # Unknown G\n",
    "rho = 0.9\n",
    "m = 4\n",
    "lam = rho * m\n",
    "mu = 1\n",
    "ca2 = 0.56\n",
    "cs2 = 1.0\n",
    "approx = qng.ggm_prob_wait_whitt(lam, mu, m, ca2, cs2)\n",
    "whichpi = qng.ggm_prob_wait_whitt_whichpi(rho, m, ca2, cs2)\n",
    "print(\"exact={0}, whitt={1}, mywhitt={2:6.3f}, simio={3}, whichpi={4}\".format(exact, whitt, approx, simio, whichpi))"
   ]
  },
  {
   "cell_type": "code",
   "execution_count": 50,
   "metadata": {},
   "outputs": [
    {
     "name": "stdout",
     "output_type": "stream",
     "text": [
      "exact=0.78, whitt=0.79, mywhitt= 0.788, simio=0, whichpi=1\n"
     ]
    }
   ],
   "source": [
    "# M/D/4\n",
    "exact = 0.78\n",
    "whitt = 0.79\n",
    "simio = 0\n",
    "rho = 0.9\n",
    "m = 4\n",
    "lam = rho * m\n",
    "mu = 1\n",
    "ca2 = 1.0\n",
    "cs2 = 0.0\n",
    "approx = qng.ggm_prob_wait_whitt(lam, mu, m, ca2, cs2)\n",
    "whichpi = qng.ggm_prob_wait_whitt_whichpi(rho, m, ca2, cs2)\n",
    "print(\"exact={0}, whitt={1}, mywhitt={2:6.3f}, simio={3}, whichpi={4}\".format(exact, whitt, approx, simio, whichpi))"
   ]
  },
  {
   "cell_type": "code",
   "execution_count": 51,
   "metadata": {},
   "outputs": [
    {
     "name": "stdout",
     "output_type": "stream",
     "text": [
      "exact=0.79, whitt=0.79, mywhitt= 0.788, simio=0, whichpi=1\n"
     ]
    }
   ],
   "source": [
    "# M/H2/4\n",
    "exact = 0.79\n",
    "whitt = 0.79\n",
    "simio = 0\n",
    "rho = 0.9\n",
    "m = 4\n",
    "lam = rho * m\n",
    "mu = 1\n",
    "ca2 = 1.0\n",
    "cs2 = 2.25\n",
    "approx = qng.ggm_prob_wait_whitt(lam, mu, m, ca2, cs2)\n",
    "whichpi = qng.ggm_prob_wait_whitt_whichpi(rho, m, ca2, cs2)\n",
    "print(\"exact={0}, whitt={1}, mywhitt={2:6.3f}, simio={3}, whichpi={4}\".format(exact, whitt, approx, simio, whichpi))"
   ]
  },
  {
   "cell_type": "code",
   "execution_count": 52,
   "metadata": {},
   "outputs": [
    {
     "name": "stdout",
     "output_type": "stream",
     "text": [
      "exact=0.79, whitt=0.79, mywhitt= 0.788, simio=0, whichpi=1\n"
     ]
    }
   ],
   "source": [
    "# M/G/4\n",
    "exact = 0.79\n",
    "whitt = 0.79\n",
    "rho = 0.9\n",
    "m = 4\n",
    "lam = rho * m\n",
    "mu = 1\n",
    "ca2 = 1.0\n",
    "cs2 = 0.75\n",
    "approx = qng.ggm_prob_wait_whitt(lam, mu, m, ca2, cs2)\n",
    "whichpi = qng.ggm_prob_wait_whitt_whichpi(rho, m, ca2, cs2)\n",
    "print(\"exact={0}, whitt={1}, mywhitt={2:6.3f}, simio={3}, whichpi={4}\".format(exact, whitt, approx, simio, whichpi))"
   ]
  },
  {
   "cell_type": "code",
   "execution_count": 53,
   "metadata": {},
   "outputs": [
    {
     "name": "stdout",
     "output_type": "stream",
     "text": [
      "exact=0.7, whitt=0.71, mywhitt= 0.702, simio=0.74, whichpi=1\n"
     ]
    }
   ],
   "source": [
    "# D/H2/4 (cs2=2.0) - \n",
    "exact = 0.70\n",
    "whitt = 0.71\n",
    "simio = 0.74\n",
    "rho = 0.9\n",
    "m = 4\n",
    "lam = rho * m\n",
    "mu = 1\n",
    "ca2 = 0.0\n",
    "cs2 = 2.0\n",
    "approx = qng.ggm_prob_wait_whitt(lam, mu, m, ca2, cs2)\n",
    "whichpi = qng.ggm_prob_wait_whitt_whichpi(rho, m, ca2, cs2)\n",
    "print(\"exact={0}, whitt={1}, mywhitt={2:6.3f}, simio={3}, whichpi={4}\".format(exact, whitt, approx, simio, whichpi))"
   ]
  },
  {
   "cell_type": "code",
   "execution_count": 24,
   "metadata": {},
   "outputs": [
    {
     "name": "stdout",
     "output_type": "stream",
     "text": [
      "p1= 0.8101, p2= 0.1899, lam1=25.9228, lam2= 6.0772, p1_lam1= 0.0312, p2_lam2= 0.0312\n"
     ]
    }
   ],
   "source": [
    "# For H2 arrivals with balanced means\n",
    "ca2 = 2.25\n",
    "rho = 0.8\n",
    "m = 20\n",
    "p1 = 0.5 * (1+math.sqrt((ca2-1) / (ca2+1)))\n",
    "p2 = 1 - p1  \n",
    "lam1 = 2 * p1 * rho * m\n",
    "lam2 = 2 * p2 * rho * m\n",
    "print(\"p1={0:7.4f}, p2={1:7.4f}, lam1={2:7.4f}, lam2={3:7.4f}, p1_lam1={4:7.4f}, p2_lam2={5:7.4f}\".format(p1,p2,lam1,lam2,p1/lam1,p2/lam2))"
   ]
  },
  {
   "cell_type": "code",
   "execution_count": 18,
   "metadata": {},
   "outputs": [
    {
     "name": "stdout",
     "output_type": "stream",
     "text": [
      "p1= 0.8101, p2= 0.1899, mu1= 1.6202, mu2= 0.3798, p1_mu1= 0.5000, p2_mu2= 0.5000\n"
     ]
    }
   ],
   "source": [
    "# For H2 service with balanced means\n",
    "cs2 = 2.25\n",
    "p1 = 0.5 * (1+math.sqrt((cs2-1) / (cs2+1)))\n",
    "p2 = 1 - p1  \n",
    "mu1 = 2 * p1\n",
    "mu2 = 2 * p2\n",
    "print(\"p1={0:7.4f}, p2={1:7.4f}, mu1={2:7.4f}, mu2={3:7.4f}, p1_mu1={4:7.4f}, p2_mu2={5:7.4f}\".format(p1,p2,mu1,mu2,p1/mu1,p2/mu2))"
   ]
  },
  {
   "cell_type": "code",
   "execution_count": 55,
   "metadata": {},
   "outputs": [
    {
     "name": "stdout",
     "output_type": "stream",
     "text": [
      "exact=0.76, whitt=0.76, mywhitt= 0.755, simio=0, whichpi=1\n"
     ]
    }
   ],
   "source": [
    "# E2/H2/4 \n",
    "exact = 0.76\n",
    "whitt = 0.76\n",
    "simio = 0\n",
    "rho = 0.9\n",
    "m = 4\n",
    "lam = rho * m\n",
    "mu = 1\n",
    "ca2 = 0.5\n",
    "cs2 = 2.0\n",
    "approx = qng.ggm_prob_wait_whitt(lam, mu, m, ca2, cs2)\n",
    "whichpi = qng.ggm_prob_wait_whitt_whichpi(rho, m, ca2, cs2)\n",
    "print(\"exact={0}, whitt={1}, mywhitt={2:6.3f}, simio={3}, whichpi={4}\".format(exact, whitt, approx, simio, whichpi))"
   ]
  },
  {
   "cell_type": "code",
   "execution_count": 56,
   "metadata": {},
   "outputs": [
    {
     "name": "stdout",
     "output_type": "stream",
     "text": [
      "exact=0.74, whitt=0.75, mywhitt=0.7475, simio=0, whichpi=1\n"
     ]
    }
   ],
   "source": [
    "# D/H2/4 - \n",
    "exact = 0.74\n",
    "whitt = 0.75\n",
    "simio = 0\n",
    "rho = 0.9\n",
    "m = 4\n",
    "lam = rho * m\n",
    "mu = 1\n",
    "ca2 = 0.0\n",
    "cs2 = 9.0\n",
    "approx = qng.ggm_prob_wait_whitt(lam, mu, m, ca2, cs2)\n",
    "whichpi = qng.ggm_prob_wait_whitt_whichpi(rho, m, ca2, cs2)\n",
    "print(\"exact={0}, whitt={1}, mywhitt={2:6.4f}, simio={3}, whichpi={4}\".format(exact, whitt, approx, simio, whichpi))"
   ]
  },
  {
   "cell_type": "code",
   "execution_count": 57,
   "metadata": {},
   "outputs": [
    {
     "name": "stdout",
     "output_type": "stream",
     "text": [
      "exact=0.92, whitt=0.86, mywhitt=0.8634, simio=0, whichpi=1\n"
     ]
    }
   ],
   "source": [
    "# H2/H2/4 - Need to simulate\n",
    "exact = 0.92\n",
    "whitt = 0.86\n",
    "simio = 0\n",
    "rho = 0.9\n",
    "m = 4\n",
    "lam = rho * m\n",
    "mu = 1\n",
    "ca2 = 9.0\n",
    "cs2 = 9.0\n",
    "approx = qng.ggm_prob_wait_whitt(lam, mu, m, ca2, cs2)\n",
    "whichpi = qng.ggm_prob_wait_whitt_whichpi(rho, m, ca2, cs2)\n",
    "print(\"exact={0}, whitt={1}, mywhitt={2:6.4f}, simio={3}, whichpi={4}\".format(exact, whitt, approx, simio, whichpi))"
   ]
  },
  {
   "cell_type": "code",
   "execution_count": 58,
   "metadata": {},
   "outputs": [
    {
     "name": "stdout",
     "output_type": "stream",
     "text": [
      "exact=0.64, whitt=0.6, mywhitt=0.5953, simio=0, whichpi=1\n"
     ]
    }
   ],
   "source": [
    "# G/E2/4 - - \n",
    "exact = 0.64\n",
    "whitt = 0.60\n",
    "simio = 0\n",
    "rho = 0.9\n",
    "m = 4\n",
    "lam = rho * m\n",
    "mu = 1\n",
    "ca2 = 0.1\n",
    "cs2 = 0.5\n",
    "approx = qng.ggm_prob_wait_whitt(lam, mu, m, ca2, cs2)\n",
    "whichpi = qng.ggm_prob_wait_whitt_whichpi(rho, m, ca2, cs2)\n",
    "print(\"exact={0}, whitt={1}, mywhitt={2:6.4f}, simio={3}, whichpi={4}\".format(exact, whitt, approx, simio, whichpi))"
   ]
  },
  {
   "cell_type": "code",
   "execution_count": 59,
   "metadata": {},
   "outputs": [
    {
     "name": "stdout",
     "output_type": "stream",
     "text": [
      "exact=0.39, whitt=0.31, mywhitt=0.3122, simio=0, whichpi=1\n"
     ]
    }
   ],
   "source": [
    "# D/M/20 - Matching whitt but not exact. Need to simulate this one\n",
    "exact = 0.39\n",
    "whitt = 0.31\n",
    "simio = 0\n",
    "rho = 0.9\n",
    "m = 20\n",
    "lam = rho * m\n",
    "mu = 1\n",
    "ca2 = 0.0\n",
    "cs2 = 1.0\n",
    "approx = qng.ggm_prob_wait_whitt(lam, mu, m, ca2, cs2)\n",
    "whichpi = qng.ggm_prob_wait_whitt_whichpi(rho, m, ca2, cs2)\n",
    "print(\"exact={0}, whitt={1}, mywhitt={2:6.4f}, simio={3}, whichpi={4}\".format(exact, whitt, approx, simio, whichpi))"
   ]
  },
  {
   "cell_type": "code",
   "execution_count": 60,
   "metadata": {},
   "outputs": [
    {
     "name": "stdout",
     "output_type": "stream",
     "text": [
      "exact=0.39, whitt=0.38, mywhitt=0.3834, simio=0, whichpi=1\n"
     ]
    }
   ],
   "source": [
    "# G/M/4 - \n",
    "exact = 0.39\n",
    "whitt = 0.38\n",
    "simio = 0\n",
    "rho = 0.6\n",
    "m = 2\n",
    "lam = rho * m\n",
    "mu = 1\n",
    "ca2 = 0.5\n",
    "cs2 = 9.0\n",
    "approx = qng.ggm_prob_wait_whitt(lam, mu, m, ca2, cs2)\n",
    "whichpi = qng.ggm_prob_wait_whitt_whichpi(rho, m, ca2, cs2)\n",
    "print(\"exact={0}, whitt={1}, mywhitt={2:6.4f}, simio={3}, whichpi={4}\".format(exact, whitt, approx, simio, whichpi))"
   ]
  },
  {
   "cell_type": "code",
   "execution_count": 4,
   "metadata": {},
   "outputs": [
    {
     "name": "stdout",
     "output_type": "stream",
     "text": [
      "exact=0.86, whitt=0.86, mywhitt=0.8650, simio=0.83, whichpi=1\n"
     ]
    }
   ],
   "source": [
    "# H2/D/4 - pretty close. Simulation not matching exact.\n",
    "exact = 0.86\n",
    "whitt = 0.86\n",
    "simio = 0.83\n",
    "rho = 0.9\n",
    "m = 4\n",
    "lam = rho * m\n",
    "mu = 1\n",
    "ca2 = 2.25\n",
    "cs2 = 0.0\n",
    "approx = qng.ggm_prob_wait_whitt(lam, mu, m, ca2, cs2)\n",
    "whichpi = qng.ggm_prob_wait_whitt_whichpi(rho, m, ca2, cs2)\n",
    "print(\"exact={0}, whitt={1}, mywhitt={2:6.4f}, simio={3}, whichpi={4}\".format(exact, whitt, approx, simio, whichpi))"
   ]
  },
  {
   "cell_type": "markdown",
   "metadata": {},
   "source": [
    "# Testing P(Wq > 0) approximation from Whitt \n",
    "\n",
    "## Table 16 on p141\n",
    "\n",
    "These results look good. I'm matching Whitt's approximation over nice range of rho values and for m=4 and m=20."
   ]
  },
  {
   "cell_type": "code",
   "execution_count": 62,
   "metadata": {},
   "outputs": [
    {
     "name": "stdout",
     "output_type": "stream",
     "text": [
      "exact=0.016, whitt=0.024, mywhitt=0.0248, simio=0, whichpi=1\n"
     ]
    }
   ],
   "source": [
    "# H2/M/20 - rho = 0.5\n",
    "exact = 0.016\n",
    "whitt = 0.024\n",
    "simio = 0\n",
    "rho = 0.5\n",
    "m = 20\n",
    "lam = rho * m\n",
    "mu = 1\n",
    "ca2 = 2.25\n",
    "cs2 = 1.0\n",
    "approx = qng.ggm_prob_wait_whitt(lam, mu, m, ca2, cs2)\n",
    "whichpi = qng.ggm_prob_wait_whitt_whichpi(rho, m, ca2, cs2)\n",
    "print(\"exact={0}, whitt={1}, mywhitt={2:6.4f}, simio={3}, whichpi={4}\".format(exact, whitt, approx, simio, whichpi))"
   ]
  },
  {
   "cell_type": "code",
   "execution_count": 63,
   "metadata": {},
   "outputs": [
    {
     "name": "stdout",
     "output_type": "stream",
     "text": [
      "exact=0.18, whitt=0.21, mywhitt=0.2129, simio=0, whichpi=1\n"
     ]
    }
   ],
   "source": [
    "# H2/M/20 - rho = 0.7\n",
    "exact = 0.18\n",
    "whitt = 0.21\n",
    "simio = 0\n",
    "rho = 0.7\n",
    "m = 20\n",
    "lam = rho * m\n",
    "mu = 1\n",
    "ca2 = 2.25\n",
    "cs2 = 1.0\n",
    "approx = qng.ggm_prob_wait_whitt(lam, mu, m, ca2, cs2)\n",
    "whichpi = qng.ggm_prob_wait_whitt_whichpi(rho, m, ca2, cs2)\n",
    "print(\"exact={0}, whitt={1}, mywhitt={2:6.4f}, simio={3}, whichpi={4}\".format(exact, whitt, approx, simio, whichpi))"
   ]
  },
  {
   "cell_type": "code",
   "execution_count": 64,
   "metadata": {},
   "outputs": [
    {
     "name": "stdout",
     "output_type": "stream",
     "text": [
      "exact=0.37, whitt=0.4, mywhitt=0.4016, simio=0, whichpi=1\n"
     ]
    }
   ],
   "source": [
    "# H2/M/20 - rho = 0.8\n",
    "exact = 0.37\n",
    "whitt = 0.40\n",
    "simio = 0\n",
    "rho = 0.8\n",
    "m = 20\n",
    "lam = rho * m\n",
    "mu = 1\n",
    "ca2 = 2.25\n",
    "cs2 = 1.0\n",
    "approx = qng.ggm_prob_wait_whitt(lam, mu, m, ca2, cs2)\n",
    "whichpi = qng.ggm_prob_wait_whitt_whichpi(rho, m, ca2, cs2)\n",
    "print(\"exact={0}, whitt={1}, mywhitt={2:6.4f}, simio={3}, whichpi={4}\".format(exact, whitt, approx, simio, whichpi))"
   ]
  },
  {
   "cell_type": "code",
   "execution_count": 65,
   "metadata": {},
   "outputs": [
    {
     "name": "stdout",
     "output_type": "stream",
     "text": [
      "exact=0.28, whitt=0.3, mywhitt=0.2950, simio=0, whichpi=1\n"
     ]
    }
   ],
   "source": [
    "# H2/M/4 - rho = 0.5\n",
    "exact = 0.28\n",
    "whitt = 0.30\n",
    "simio = 0\n",
    "rho = 0.5\n",
    "m = 4\n",
    "lam = rho * m\n",
    "mu = 1\n",
    "ca2 = 2.25\n",
    "cs2 = 1.0\n",
    "approx = qng.ggm_prob_wait_whitt(lam, mu, m, ca2, cs2)\n",
    "whichpi = qng.ggm_prob_wait_whitt_whichpi(rho, m, ca2, cs2)\n",
    "print(\"exact={0}, whitt={1}, mywhitt={2:6.4f}, simio={3}, whichpi={4}\".format(exact, whitt, approx, simio, whichpi))"
   ]
  },
  {
   "cell_type": "code",
   "execution_count": 66,
   "metadata": {},
   "outputs": [
    {
     "name": "stdout",
     "output_type": "stream",
     "text": [
      "exact=0.28, whitt=0.3, mywhitt=0.2950, simio=0, whichpi=1\n"
     ]
    }
   ],
   "source": [
    "# H2/M/4 - rho = 0.7\n",
    "exact = 0.28\n",
    "whitt = 0.30\n",
    "simio = 0\n",
    "rho = 0.5\n",
    "m = 4\n",
    "lam = rho * m\n",
    "mu = 1\n",
    "ca2 = 2.25\n",
    "cs2 = 1.0\n",
    "approx = qng.ggm_prob_wait_whitt(lam, mu, m, ca2, cs2)\n",
    "whichpi = qng.ggm_prob_wait_whitt_whichpi(rho, m, ca2, cs2)\n",
    "print(\"exact={0}, whitt={1}, mywhitt={2:6.4f}, simio={3}, whichpi={4}\".format(exact, whitt, approx, simio, whichpi))"
   ]
  },
  {
   "cell_type": "markdown",
   "metadata": {},
   "source": [
    "# Testing Whitt ggc wait time cdf approximation"
   ]
  },
  {
   "cell_type": "code",
   "execution_count": 7,
   "metadata": {},
   "outputs": [
    {
     "data": {
      "text/plain": [
       "3.8385881505425026"
      ]
     },
     "execution_count": 7,
     "metadata": {},
     "output_type": "execute_result"
    }
   ],
   "source": [
    "# See Table 26\n",
    "rho = 0.8\n",
    "m = 4\n",
    "lam = rho * m\n",
    "mu = 1\n",
    "ca2 = 0.5\n",
    "cs2 = 2.0\n",
    "qng.ggc_qwait_pctile_whitt(.95,lam,mu,m,ca2,cs2)"
   ]
  },
  {
   "cell_type": "code",
   "execution_count": 10,
   "metadata": {},
   "outputs": [
    {
     "data": {
      "text/plain": [
       "17.822035508275903"
      ]
     },
     "execution_count": 10,
     "metadata": {},
     "output_type": "execute_result"
    }
   ],
   "source": [
    "# See Table 26\n",
    "rho = 0.8\n",
    "m = 2\n",
    "lam = rho * m\n",
    "mu = 1\n",
    "ca2 = 2.0\n",
    "cs2 = 2.0\n",
    "qng.ggc_qwait_pctile_whitt(.98,lam,mu,m,ca2,cs2)"
   ]
  },
  {
   "cell_type": "code",
   "execution_count": 11,
   "metadata": {},
   "outputs": [
    {
     "data": {
      "text/plain": [
       "0.98064021237865229"
      ]
     },
     "execution_count": 11,
     "metadata": {},
     "output_type": "execute_result"
    }
   ],
   "source": [
    "# See Table 26\n",
    "rho = 0.8\n",
    "m = 2\n",
    "lam = rho * m\n",
    "mu = 1\n",
    "ca2 = 2.0\n",
    "cs2 = 2.0\n",
    "qng.ggm_qwait_cdf_whitt(18.0,lam,mu,m,ca2,cs2)"
   ]
  },
  {
   "cell_type": "code",
   "execution_count": 14,
   "metadata": {},
   "outputs": [
    {
     "name": "stdout",
     "output_type": "stream",
     "text": [
      "whitt_ed=0.23, mywhitt_ed=0.2310, whitt_cd2=0.8, mywhitt_cd2=0.8\n"
     ]
    }
   ],
   "source": [
    "# M/D/m - rho = 0.7\n",
    "# Testing ED and cd2\n",
    "\n",
    "whitt_ed = 0.23\n",
    "whitt_cd2 = 0.8\n",
    "rho = 0.7\n",
    "m = 8\n",
    "lam = rho * m\n",
    "mu = 1\n",
    "ca2 = 1.0\n",
    "cs2 = 0.0\n",
    "mywhitt_ed = qng.ggm_qcondwait_whitt_ed(lam, mu, m, ca2, cs2)\n",
    "mywhitt_cd2 = qng.ggm_qcondwait_whitt_cd2(rho, cs2)\n",
    "\n",
    "print(\"whitt_ed={0}, mywhitt_ed={1:6.4f}, whitt_cd2={2}, mywhitt_cd2={3:6.4f}\".format(whitt_ed, mywhitt_ed, whitt_cd2, mywhitt_cd2))"
   ]
  },
  {
   "cell_type": "code",
   "execution_count": 15,
   "metadata": {},
   "outputs": [
    {
     "name": "stdout",
     "output_type": "stream",
     "text": [
      "whitt_ed=0.64, mywhitt_ed=0.6426, whitt_cd2=0.93, mywhitt_cd2=0.9333\n"
     ]
    }
   ],
   "source": [
    "# M/D/m - rho = 0.9\n",
    "# Testing ED and cd2\n",
    "\n",
    "whitt_ed = 0.64\n",
    "whitt_cd2 = 0.93\n",
    "rho = 0.9\n",
    "m = 8\n",
    "lam = rho * m\n",
    "mu = 1\n",
    "ca2 = 1.0\n",
    "cs2 = 0.0\n",
    "mywhitt_ed = qng.ggm_qcondwait_whitt_ed(lam, mu, m, ca2, cs2)\n",
    "mywhitt_cd2 = qng.ggm_qcondwait_whitt_cd2(rho, cs2)\n",
    "\n",
    "print(\"whitt_ed={0}, mywhitt_ed={1:6.4f}, whitt_cd2={2}, mywhitt_cd2={3:6.4f}\".format(whitt_ed, mywhitt_ed, whitt_cd2, mywhitt_cd2))"
   ]
  },
  {
   "cell_type": "code",
   "execution_count": 16,
   "metadata": {},
   "outputs": [
    {
     "name": "stdout",
     "output_type": "stream",
     "text": [
      "whitt_ed=0.6, mywhitt_ed=0.6022, whitt_cd2=1.23, mywhitt_cd2=1.2308\n"
     ]
    }
   ],
   "source": [
    "# G/H2/m - rho = 0.7\n",
    "# Testing ED and cd2\n",
    "\n",
    "whitt_ed = 0.6\n",
    "whitt_cd2 = 1.23\n",
    "rho = 0.7\n",
    "m = 8\n",
    "lam = rho * m\n",
    "mu = 1\n",
    "ca2 = 1.0\n",
    "cs2 = 2.25\n",
    "mywhitt_ed = qng.ggm_qcondwait_whitt_ed(lam, mu, m, ca2, cs2)\n",
    "mywhitt_cd2 = qng.ggm_qcondwait_whitt_cd2(rho, cs2)\n",
    "\n",
    "print(\"whitt_ed={0}, mywhitt_ed={1:6.4f}, whitt_cd2={2}, mywhitt_cd2={3:6.4f}\".format(whitt_ed, mywhitt_ed, whitt_cd2, mywhitt_cd2))"
   ]
  },
  {
   "cell_type": "code",
   "execution_count": 17,
   "metadata": {},
   "outputs": [
    {
     "name": "stdout",
     "output_type": "stream",
     "text": [
      "whitt_ed=1.96, mywhitt_ed=1.9625, whitt_cd2=1.08, mywhitt_cd2=1.0769\n"
     ]
    }
   ],
   "source": [
    "# G/H2/m - rho = 0.9\n",
    "# Testing ED and cd2\n",
    "\n",
    "whitt_ed = 1.96\n",
    "whitt_cd2 = 1.08\n",
    "rho = 0.9\n",
    "m = 8\n",
    "lam = rho * m\n",
    "mu = 1\n",
    "ca2 = 1.0\n",
    "cs2 = 2.25\n",
    "mywhitt_ed = qng.ggm_qcondwait_whitt_ed(lam, mu, m, ca2, cs2)\n",
    "mywhitt_cd2 = qng.ggm_qcondwait_whitt_cd2(rho, cs2)\n",
    "\n",
    "print(\"whitt_ed={0}, mywhitt_ed={1:6.4f}, whitt_cd2={2}, mywhitt_cd2={3:6.4f}\".format(whitt_ed, mywhitt_ed, whitt_cd2, mywhitt_cd2))"
   ]
  },
  {
   "cell_type": "markdown",
   "metadata": {},
   "source": [
    "# Comparing Whitt and Tijms for P(Wq > t | Wq > 0)\n",
    "\n",
    "Tijms derives an approximate renewal equation for the wait time CDF in M/G/c. Whitt has a two moment approximation for G/G/c that is much simpler. How close are these two approximations? We can use Table 1 in the Tijms paper as the basis of comparison. The \"exact\" results are based on simulation by Tijms.\n",
    "\n",
    "As you can see from the four cases tested below, the Whitt two moment approximation for G/G/c is remarkably accurate (and much simpler than dealing with numeric integration of various service time distributions)."
   ]
  },
  {
   "cell_type": "code",
   "execution_count": 19,
   "metadata": {},
   "outputs": [
    {
     "name": "stdout",
     "output_type": "stream",
     "text": [
      "exact=0.48, whittapprox=0.5042, tijmsapprox=0.4775\n"
     ]
    }
   ],
   "source": [
    "# M/H2/5 - rho = 0.8 (cs2 = 2.25)\n",
    "t = 1.0\n",
    "exact = 0.48\n",
    "rho = 0.8\n",
    "m = 5\n",
    "lam = rho * m\n",
    "mu = 1\n",
    "ca2 = 1.0\n",
    "cs2 = 2.25\n",
    "whittapprox = 1.0 - qng.ggm_qcondwait_cdf_whitt(t,lam, mu, m, ca2, cs2)\n",
    "tijmsapprox = 0.4775\n",
    "print(\"exact={0}, whittapprox={1:6.4f}, tijmsapprox={2}\".format(exact, whittapprox, tijmsapprox))"
   ]
  },
  {
   "cell_type": "code",
   "execution_count": 20,
   "metadata": {},
   "outputs": [
    {
     "name": "stdout",
     "output_type": "stream",
     "text": [
      "exact=0.14, whittapprox=0.1403, tijmsapprox=0.1527\n"
     ]
    }
   ],
   "source": [
    "# M/H2/5 - rho = 0.8 (cs2 = 2.25)\n",
    "t = 3.0\n",
    "exact = 0.14\n",
    "rho = 0.8\n",
    "m = 5\n",
    "lam = rho * m\n",
    "mu = 1\n",
    "ca2 = 1.0\n",
    "cs2 = 2.25\n",
    "whittapprox = 1.0 - qng.ggm_qcondwait_cdf_whitt(t,lam, mu, m, ca2, cs2)\n",
    "tijmsapprox = 0.1527\n",
    "print(\"exact={0}, whittapprox={1:6.4f}, tijmsapprox={2}\".format(exact, whittapprox, tijmsapprox))"
   ]
  },
  {
   "cell_type": "code",
   "execution_count": 21,
   "metadata": {},
   "outputs": [
    {
     "name": "stdout",
     "output_type": "stream",
     "text": [
      "exact=0.27, whittapprox=0.2690, tijmsapprox=0.2747\n"
     ]
    }
   ],
   "source": [
    "# M/E2/5 - rho = 0.8 (cs2 = 0.5)\n",
    "t = 1.0\n",
    "exact = 0.27\n",
    "rho = 0.8\n",
    "m = 5\n",
    "lam = rho * m\n",
    "mu = 1\n",
    "ca2 = 1.0\n",
    "cs2 = 0.5\n",
    "whittapprox = 1.0 - qng.ggm_qcondwait_cdf_whitt(t,lam, mu, m, ca2, cs2)\n",
    "tijmsapprox = 0.2747\n",
    "print(\"exact={0}, whittapprox={1:6.4f}, tijmsapprox={2}\".format(exact, whittapprox, tijmsapprox))"
   ]
  },
  {
   "cell_type": "code",
   "execution_count": 22,
   "metadata": {},
   "outputs": [
    {
     "name": "stdout",
     "output_type": "stream",
     "text": [
      "exact=0.1413, whittapprox=0.1371, tijmsapprox=0.1516\n"
     ]
    }
   ],
   "source": [
    "# M/D/5 - rho = 0.8 (cs2 = 0.0)\n",
    "t = 1.0\n",
    "exact = 0.1413\n",
    "rho = 0.8\n",
    "m = 5\n",
    "lam = rho * m\n",
    "mu = 1\n",
    "ca2 = 1.0\n",
    "cs2 = 0.0\n",
    "whittapprox = 1.0 - qng.ggm_qcondwait_cdf_whitt(t,lam, mu, m, ca2, cs2)\n",
    "tijmsapprox = 0.1516\n",
    "print(\"exact={0}, whittapprox={1:6.4f}, tijmsapprox={2}\".format(exact, whittapprox, tijmsapprox))"
   ]
  },
  {
   "cell_type": "markdown",
   "metadata": {},
   "source": [
    "# Evaluating Equation 5.2 of Whitt\n",
    "\n",
    "Return the approximate P(Q>0) in G/G/m queue using Whitt's simple\n",
    "approximation involving rho and P(W>0).\n",
    "\n",
    "This approximation is exact for M/M/m and has strong theoretical\n",
    "support for GI/M/m. It's described by Whitt as \"crude\" but is\n",
    "\"a useful quick approximation\".\n",
    "\n",
    "Equation 5.1 is preferred for non-exponential service but involves 25 separate cases based\n",
    "on ranges of cv2 for an interarrival time and a delay distribution. It uses many of the ideas\n",
    "for Whitt's two-moment approximation for conditional wait (i.e. delay).\n",
    "\n",
    "Table 29 in Whitt's G/G/m paper has some exact results for M/E2/8. The table includes P(Q<=k) and so\n",
    "we can look at P(Q>0) = 1-P(Q<=0)\n"
   ]
  },
  {
   "cell_type": "code",
   "execution_count": 4,
   "metadata": {},
   "outputs": [
    {
     "name": "stdout",
     "output_type": "stream",
     "text": [
      "exact=0.17700000000000005, whittapprox_52=0.1894, whittapprox_51=0.18899999999999995\n"
     ]
    }
   ],
   "source": [
    "# M/E2/8 - rho = 0.7 (cs2 = 0.5)\n",
    "exact = 1-0.823\n",
    "rho = 0.7\n",
    "m = 8\n",
    "lam = rho * m\n",
    "mu = 1\n",
    "ca2 = 1.0\n",
    "cs2 = 0.5\n",
    "whittapprox_52 = qng.ggm_qsize_prob_gt_0_whitt_5_2(lam, mu, m, ca2, cs2)\n",
    "whittapprox_51 = 1-.811\n",
    "print(\"exact={0}, whittapprox_52={1:6.4f}, whittapprox_51={2}\".format(exact, whittapprox_52, whittapprox_51))"
   ]
  },
  {
   "cell_type": "code",
   "execution_count": 5,
   "metadata": {},
   "outputs": [
    {
     "name": "stdout",
     "output_type": "stream",
     "text": [
      "exact=0.615, whittapprox_52=0.6314, whittapprox_51=0.631\n"
     ]
    }
   ],
   "source": [
    "# M/E2/8 - rho = 0.9 (cs2 = 0.5)\n",
    "exact = 1-0.385\n",
    "rho = 0.9\n",
    "m = 8\n",
    "lam = rho * m\n",
    "mu = 1\n",
    "ca2 = 1.0\n",
    "cs2 = 0.5\n",
    "whittapprox_52 = qng.ggm_qsize_prob_gt_0_whitt_5_2(lam, mu, m, ca2, cs2)\n",
    "whittapprox_51 = 1-.369\n",
    "print(\"exact={0}, whittapprox_52={1:6.4f}, whittapprox_51={2}\".format(exact, whittapprox_52, whittapprox_51))"
   ]
  },
  {
   "cell_type": "markdown",
   "metadata": {
    "collapsed": true
   },
   "source": [
    "# Testing mmc inverse (staffing to meet service level)"
   ]
  },
  {
   "cell_type": "code",
   "execution_count": 4,
   "metadata": {},
   "outputs": [],
   "source": [
    "arr_rate = 326/30\n",
    "svc_rate = 1/(34/60)"
   ]
  },
  {
   "cell_type": "code",
   "execution_count": 5,
   "metadata": {},
   "outputs": [
    {
     "data": {
      "text/plain": [
       "10"
      ]
     },
     "execution_count": 5,
     "metadata": {},
     "output_type": "execute_result"
    }
   ],
   "source": [
    "qng.mmc_qwait_cdf_inv(9/60, 0.9, arr_rate, svc_rate)"
   ]
  },
  {
   "cell_type": "code",
   "execution_count": 10,
   "metadata": {},
   "outputs": [
    {
     "data": {
      "text/plain": [
       "0.9579577103592947"
      ]
     },
     "execution_count": 10,
     "metadata": {},
     "output_type": "execute_result"
    }
   ],
   "source": [
    "qng.mmc_qwait_cdf(9/60, arr_rate, svc_rate, 10)"
   ]
  },
  {
   "cell_type": "code",
   "execution_count": null,
   "metadata": {},
   "outputs": [],
   "source": []
  }
 ],
 "metadata": {
  "anaconda-cloud": {},
  "kernelspec": {
   "display_name": "Python 3",
   "language": "python",
   "name": "python3"
  },
  "language_info": {
   "codemirror_mode": {
    "name": "ipython",
    "version": 3
   },
   "file_extension": ".py",
   "mimetype": "text/x-python",
   "name": "python",
   "nbconvert_exporter": "python",
   "pygments_lexer": "ipython3",
   "version": "3.6.5"
  }
 },
 "nbformat": 4,
 "nbformat_minor": 1
}
